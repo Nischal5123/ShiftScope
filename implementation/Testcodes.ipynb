{
 "cells": [
  {
   "cell_type": "code",
   "execution_count": 1,
   "outputs": [],
   "source": [
    "import json\n",
    "import csv\n",
    "\n",
    "import pandas as pd\n",
    "\n",
    "# Read the JSON data from the 'movies.json' file\n",
    "with open('../data/zheng/movies.json', 'r') as json_file:\n",
    "    movie_data = json.load(json_file)\n",
    "\n",
    "\n"
   ],
   "metadata": {
    "collapsed": false,
    "ExecuteTime": {
     "end_time": "2023-10-03T23:43:12.698520Z",
     "start_time": "2023-10-03T23:43:12.464575Z"
    }
   }
  },
  {
   "cell_type": "code",
   "execution_count": 2,
   "outputs": [],
   "source": [
    "df=pd.read_json('../data/zheng/movies.json')\n",
    "# Sample JSON data\n",
    "json_line = '{\"Title\":\"The Land Girls\",\"US_Gross\":146083,\"Worldwide_Gross\":146083,\"US_DVD_Sales\":null,\"Production_Budget\":8000000,\"Release_Date\":\"12-Jun-98\",\"MPAA_Rating\":\"R\",\"Running_Time_min\":null,\"Distributor\":\"Gramercy\",\"Source\":null,\"Major_Genre\":null,\"Creative_Type\":null,\"Director\":null,\"Rotten_Tomatoes_Rating\":null,\"IMDB_Rating\":6.1,\"IMDB_Votes\":1071}'"
   ],
   "metadata": {
    "collapsed": false,
    "ExecuteTime": {
     "end_time": "2023-10-03T23:43:18.022377Z",
     "start_time": "2023-10-03T23:43:17.993972Z"
    }
   }
  },
  {
   "cell_type": "code",
   "execution_count": 3,
   "outputs": [
    {
     "data": {
      "text/plain": "                        Title   US Gross  Worldwide Gross  US DVD Sales  \\\n0              The Land Girls   146083.0         146083.0           NaN   \n1      First Love, Last Rites    10876.0          10876.0           NaN   \n2  I Married a Strange Person   203134.0         203134.0           NaN   \n3        Let's Talk About Sex   373615.0         373615.0           NaN   \n4                        Slam  1009819.0        1087521.0           NaN   \n\n   Production Budget Release Date MPAA Rating  Running Time min Distributor  \\\n0          8000000.0  Jun 12 1998           R               NaN    Gramercy   \n1           300000.0  Aug 07 1998           R               NaN      Strand   \n2           250000.0  Aug 28 1998        None               NaN   Lionsgate   \n3           300000.0  Sep 11 1998        None               NaN   Fine Line   \n4          1000000.0  Oct 09 1998           R               NaN     Trimark   \n\n                Source Major Genre         Creative Type Director  \\\n0                 None        None                  None     None   \n1                 None       Drama                  None     None   \n2                 None      Comedy                  None     None   \n3                 None      Comedy                  None     None   \n4  Original Screenplay       Drama  Contemporary Fiction     None   \n\n   Rotten Tomatoes Rating  IMDB Rating  IMDB Votes  \n0                     NaN          6.1      1071.0  \n1                     NaN          6.9       207.0  \n2                     NaN          6.8       865.0  \n3                    13.0          NaN         NaN  \n4                    62.0          3.4       165.0  ",
      "text/html": "<div>\n<style scoped>\n    .dataframe tbody tr th:only-of-type {\n        vertical-align: middle;\n    }\n\n    .dataframe tbody tr th {\n        vertical-align: top;\n    }\n\n    .dataframe thead th {\n        text-align: right;\n    }\n</style>\n<table border=\"1\" class=\"dataframe\">\n  <thead>\n    <tr style=\"text-align: right;\">\n      <th></th>\n      <th>Title</th>\n      <th>US Gross</th>\n      <th>Worldwide Gross</th>\n      <th>US DVD Sales</th>\n      <th>Production Budget</th>\n      <th>Release Date</th>\n      <th>MPAA Rating</th>\n      <th>Running Time min</th>\n      <th>Distributor</th>\n      <th>Source</th>\n      <th>Major Genre</th>\n      <th>Creative Type</th>\n      <th>Director</th>\n      <th>Rotten Tomatoes Rating</th>\n      <th>IMDB Rating</th>\n      <th>IMDB Votes</th>\n    </tr>\n  </thead>\n  <tbody>\n    <tr>\n      <th>0</th>\n      <td>The Land Girls</td>\n      <td>146083.0</td>\n      <td>146083.0</td>\n      <td>NaN</td>\n      <td>8000000.0</td>\n      <td>Jun 12 1998</td>\n      <td>R</td>\n      <td>NaN</td>\n      <td>Gramercy</td>\n      <td>None</td>\n      <td>None</td>\n      <td>None</td>\n      <td>None</td>\n      <td>NaN</td>\n      <td>6.1</td>\n      <td>1071.0</td>\n    </tr>\n    <tr>\n      <th>1</th>\n      <td>First Love, Last Rites</td>\n      <td>10876.0</td>\n      <td>10876.0</td>\n      <td>NaN</td>\n      <td>300000.0</td>\n      <td>Aug 07 1998</td>\n      <td>R</td>\n      <td>NaN</td>\n      <td>Strand</td>\n      <td>None</td>\n      <td>Drama</td>\n      <td>None</td>\n      <td>None</td>\n      <td>NaN</td>\n      <td>6.9</td>\n      <td>207.0</td>\n    </tr>\n    <tr>\n      <th>2</th>\n      <td>I Married a Strange Person</td>\n      <td>203134.0</td>\n      <td>203134.0</td>\n      <td>NaN</td>\n      <td>250000.0</td>\n      <td>Aug 28 1998</td>\n      <td>None</td>\n      <td>NaN</td>\n      <td>Lionsgate</td>\n      <td>None</td>\n      <td>Comedy</td>\n      <td>None</td>\n      <td>None</td>\n      <td>NaN</td>\n      <td>6.8</td>\n      <td>865.0</td>\n    </tr>\n    <tr>\n      <th>3</th>\n      <td>Let's Talk About Sex</td>\n      <td>373615.0</td>\n      <td>373615.0</td>\n      <td>NaN</td>\n      <td>300000.0</td>\n      <td>Sep 11 1998</td>\n      <td>None</td>\n      <td>NaN</td>\n      <td>Fine Line</td>\n      <td>None</td>\n      <td>Comedy</td>\n      <td>None</td>\n      <td>None</td>\n      <td>13.0</td>\n      <td>NaN</td>\n      <td>NaN</td>\n    </tr>\n    <tr>\n      <th>4</th>\n      <td>Slam</td>\n      <td>1009819.0</td>\n      <td>1087521.0</td>\n      <td>NaN</td>\n      <td>1000000.0</td>\n      <td>Oct 09 1998</td>\n      <td>R</td>\n      <td>NaN</td>\n      <td>Trimark</td>\n      <td>Original Screenplay</td>\n      <td>Drama</td>\n      <td>Contemporary Fiction</td>\n      <td>None</td>\n      <td>62.0</td>\n      <td>3.4</td>\n      <td>165.0</td>\n    </tr>\n  </tbody>\n</table>\n</div>"
     },
     "execution_count": 3,
     "metadata": {},
     "output_type": "execute_result"
    }
   ],
   "source": [
    "df.head()"
   ],
   "metadata": {
    "collapsed": false,
    "ExecuteTime": {
     "end_time": "2023-10-03T23:43:18.705381Z",
     "start_time": "2023-10-03T23:43:18.699684Z"
    }
   }
  },
  {
   "cell_type": "code",
   "execution_count": 4,
   "outputs": [],
   "source": [
    "df.to_csv(\"../data/zheng/movies_underlying_data.csv\", index=True)"
   ],
   "metadata": {
    "collapsed": false,
    "ExecuteTime": {
     "end_time": "2023-10-03T23:43:23.022033Z",
     "start_time": "2023-10-03T23:43:22.992227Z"
    }
   }
  },
  {
   "cell_type": "code",
   "execution_count": null,
   "outputs": [],
   "source": [],
   "metadata": {
    "collapsed": false
   }
  },
  {
   "cell_type": "code",
   "execution_count": 5,
   "outputs": [
    {
     "name": "stdout",
     "output_type": "stream",
     "text": [
      "CSV file 'combinations.csv' has been created.\n"
     ]
    }
   ],
   "source": [
    "marks=['point','tick','bar','circle']\n",
    "x_attributes=['Title', 'US_Gross', 'Worldwide_Gross', 'US_DVD_Sales', 'Production_Budget', 'Release_Date', 'MPAA_Rating', 'Running_Time_min', 'Distributor', 'Source', 'Major_Genre', 'Creative_Type', 'Director', 'Rotten_Tomatoes_Rating', 'IMDB_Rating', 'IMDB_Votes']\n",
    "y_attributes=['Title', 'US_Gross', 'Worldwide_Gross', 'US_DVD_Sales', 'Production_Budget', 'Release_Date', 'MPAA_Rating', 'Running_Time_min', 'Distributor', 'Source', 'Major_Genre', 'Creative_Type', 'Director', 'Rotten_Tomatoes_Rating', 'IMDB_Rating', 'IMDB_Votes']\n",
    "## Open a CSV file for writing\n",
    "with open('../data/zheng/combinations.csv', 'w', newline='') as csv_file:\n",
    "    writer = csv.writer(csv_file)\n",
    "\n",
    "    # Write the header row\n",
    "    writer.writerow(['id', 'mark', 'x_attribute', 'y_attribute'])\n",
    "\n",
    "    # Initialize an ID counter\n",
    "    id_counter = 0\n",
    "\n",
    "    # Write all combinations\n",
    "    for mark in marks:\n",
    "        for x_attr in x_attributes:\n",
    "            for y_attr in y_attributes:\n",
    "                writer.writerow([id_counter, mark, x_attr, y_attr])\n",
    "                id_counter += 1\n",
    "\n",
    "print(\"CSV file 'combinations.csv' has been created.\")"
   ],
   "metadata": {
    "collapsed": false,
    "ExecuteTime": {
     "end_time": "2023-10-03T23:44:00.468846Z",
     "start_time": "2023-10-03T23:44:00.462181Z"
    }
   }
  },
  {
   "cell_type": "code",
   "execution_count": 44,
   "outputs": [],
   "source": [
    "def get_interaction_id(search_entry):\n",
    "        # Open the CSV file and search for the entry\n",
    "    with open('../data/zheng/combinations.csv', 'r') as csv_file:\n",
    "        reader = csv.reader(csv_file)\n",
    "\n",
    "        # Skip the header row\n",
    "        next(reader)\n",
    "\n",
    "        # Initialize a variable to store the found ID\n",
    "        found_id = 1155\n",
    "\n",
    "        # Iterate through the rows\n",
    "        for row in reader:\n",
    "            row_values = row[1:]  # Exclude the 'id' column\n",
    "            if row_values == search_entry:\n",
    "                found_id = row[0]\n",
    "                break\n",
    "\n",
    "    return found_id"
   ],
   "metadata": {
    "collapsed": false,
    "ExecuteTime": {
     "end_time": "2023-09-27T03:24:51.198190Z",
     "start_time": "2023-09-27T03:24:51.170758Z"
    }
   }
  },
  {
   "cell_type": "code",
   "execution_count": 45,
   "outputs": [],
   "source": [
    "def search_attribute(row):\n",
    "\n",
    "    fieldnames = ['Title', 'US_Gross', 'Worldwide_Gross', 'US_DVD_Sales', 'Production_Budget', 'Release_Date', 'MPAA_Rating', 'Running_Time_min', 'Distributor', 'Source', 'Major_Genre', 'Creative_Type', 'Director', 'Rotten_Tomatoes_Rating', 'IMDB_Rating', 'IMDB_Votes']\n",
    "    matches=[]\n",
    "    for i in fieldnames:\n",
    "        if i in row and len(matches)<2:\n",
    "            matches.append(i)\n",
    "    if len(matches)==0:\n",
    "        matches.append(None)\n",
    "        matches.append(None)\n",
    "    elif len(matches)==1:\n",
    "        matches.append(None)\n",
    "\n",
    "    return matches"
   ],
   "metadata": {
    "collapsed": false,
    "ExecuteTime": {
     "end_time": "2023-09-27T03:24:51.909849Z",
     "start_time": "2023-09-27T03:24:51.885473Z"
    }
   }
  },
  {
   "cell_type": "code",
   "execution_count": 47,
   "outputs": [
    {
     "name": "stdout",
     "output_type": "stream",
     "text": [
      "Converting 'stu31_ade_p3_logs.csv'...\n",
      "Total size of interaction log 1170\n",
      "stu31_ade_p3_logs 192\n",
      "Converting 'pro13_ace_p3_logs.csv'...\n",
      "Total size of interaction log 1199\n",
      "pro13_ace_p3_logs 427\n",
      "Converting 'stu15_ade_p3_logs.csv'...\n",
      "Total size of interaction log 3762\n",
      "stu15_ade_p3_logs 2134\n",
      "Converting 'stu29_ade_p4_logs.csv'...\n",
      "Total size of interaction log 2351\n",
      "stu29_ade_p4_logs 1316\n",
      "Converting 'pro9_acf_p3_logs.csv'...\n",
      "Total size of interaction log 2026\n",
      "pro9_acf_p3_logs 566\n",
      "Converting 'stu26_ace_p4_logs.csv'...\n",
      "Total size of interaction log 5315\n",
      "stu26_ace_p4_logs 3255\n",
      "Converting 'pro8_acf_p4_logs.csv'...\n",
      "Total size of interaction log 999\n",
      "pro8_acf_p4_logs 182\n",
      "Converting 'pro20_ade_p4_logs.csv'...\n",
      "Total size of interaction log 3491\n",
      "pro20_ade_p4_logs 676\n",
      "Converting 'stu30_adf_p3_logs.csv'...\n",
      "Total size of interaction log 1140\n",
      "stu30_adf_p3_logs 247\n",
      "Converting 'pro21_ade_p3_logs.csv'...\n",
      "Total size of interaction log 3072\n",
      "pro21_ade_p3_logs 899\n",
      "Converting 'stu37_adf_p3_logs.csv'...\n",
      "Total size of interaction log 2703\n",
      "stu37_adf_p3_logs 1975\n",
      "Converting 'stu36_adf_p4_logs.csv'...\n",
      "Total size of interaction log 1358\n",
      "stu36_adf_p4_logs 622\n",
      "Converting 'stu6_acf_p3_logs.csv'...\n",
      "Total size of interaction log 3611\n",
      "stu6_acf_p3_logs 2490\n",
      "Converting 'stu21_ace_p4_logs.csv'...\n",
      "Total size of interaction log 3234\n",
      "stu21_ace_p4_logs 42\n",
      "Converting 'pro31_adf_p3_logs.csv'...\n",
      "Total size of interaction log 4331\n",
      "pro31_adf_p3_logs 3627\n",
      "Converting 'stu13_acf_p3_logs.csv'...\n",
      "Total size of interaction log 1026\n",
      "stu13_acf_p3_logs 358\n",
      "Converting 'pro29_ace_p3_logs.csv'...\n",
      "Total size of interaction log 2362\n",
      "pro29_ace_p3_logs 1454\n",
      "Converting 'stu38_acf_p3_logs.csv'...\n",
      "Total size of interaction log 1902\n",
      "stu38_acf_p3_logs 1090\n",
      "Converting 'pro15_ade_p4_logs.csv'...\n",
      "Total size of interaction log 1034\n",
      "pro15_ade_p4_logs 208\n",
      "Converting 'stu7_ade_p3_logs.csv'...\n",
      "Total size of interaction log 766\n",
      "stu7_ade_p3_logs 419\n",
      "Converting 'stu39_adf_p4_logs.csv'...\n",
      "Total size of interaction log 2550\n",
      "stu39_adf_p4_logs 1634\n",
      "Converting 'stu37_adf_p4_logs.csv'...\n",
      "Total size of interaction log 1455\n",
      "stu37_adf_p4_logs 252\n",
      "Converting 'stu36_adf_p3_logs.csv'...\n",
      "Total size of interaction log 1484\n",
      "stu36_adf_p3_logs 257\n",
      "Converting 'stu6_acf_p4_logs.csv'...\n",
      "Total size of interaction log 3812\n",
      "stu6_acf_p4_logs 2384\n",
      "Converting 'stu21_ace_p3_logs.csv'...\n",
      "Total size of interaction log 996\n",
      "stu21_ace_p3_logs 171\n",
      "Converting 'pro31_adf_p4_logs.csv'...\n",
      "Total size of interaction log 3390\n",
      "pro31_adf_p4_logs 2323\n",
      "Converting 'stu13_acf_p4_logs.csv'...\n",
      "Total size of interaction log 1209\n",
      "stu13_acf_p4_logs 636\n",
      "Converting 'pro29_ace_p4_logs.csv'...\n",
      "Total size of interaction log 3081\n",
      "pro29_ace_p4_logs 947\n",
      "Converting 'stu38_acf_p4_logs.csv'...\n",
      "Total size of interaction log 1159\n",
      "stu38_acf_p4_logs 337\n",
      "Converting 'pro15_ade_p3_logs.csv'...\n",
      "Total size of interaction log 919\n",
      "pro15_ade_p3_logs 320\n",
      "Converting 'stu7_ade_p4_logs.csv'...\n",
      "Total size of interaction log 1044\n",
      "stu7_ade_p4_logs 425\n",
      "Converting 'stu39_adf_p3_logs.csv'...\n",
      "Total size of interaction log 1138\n",
      "stu39_adf_p3_logs 490\n",
      "Converting 'stu31_ade_p4_logs.csv'...\n",
      "Total size of interaction log 5107\n",
      "stu31_ade_p4_logs 1962\n",
      "Converting 'pro13_ace_p4_logs.csv'...\n",
      "Total size of interaction log 1186\n",
      "pro13_ace_p4_logs 318\n",
      "Converting 'stu15_ade_p4_logs.csv'...\n",
      "Total size of interaction log 2022\n",
      "stu15_ade_p4_logs 644\n",
      "Converting 'stu29_ade_p3_logs.csv'...\n",
      "Total size of interaction log 2585\n",
      "stu29_ade_p3_logs 2043\n",
      "Converting 'pro9_acf_p4_logs.csv'...\n",
      "Total size of interaction log 1573\n",
      "pro9_acf_p4_logs 357\n",
      "Converting 'stu26_ace_p3_logs.csv'...\n",
      "Total size of interaction log 3229\n",
      "stu26_ace_p3_logs 1679\n",
      "Converting 'pro8_acf_p3_logs.csv'...\n",
      "Total size of interaction log 928\n",
      "pro8_acf_p3_logs 214\n",
      "Converting 'pro20_ade_p3_logs.csv'...\n",
      "Total size of interaction log 3553\n",
      "pro20_ade_p3_logs 524\n",
      "Converting 'stu30_adf_p4_logs.csv'...\n",
      "Total size of interaction log 1132\n",
      "stu30_adf_p4_logs 519\n",
      "Converting 'pro21_ade_p4_logs.csv'...\n",
      "Total size of interaction log 5854\n",
      "pro21_ade_p4_logs 3603\n",
      "Converting 'stu10_acf_p3_logs.csv'...\n",
      "Total size of interaction log 3106\n",
      "stu10_acf_p3_logs 2918\n",
      "Converting 'pro3_ace_p3_logs.csv'...\n",
      "Total size of interaction log 473\n",
      "pro3_ace_p3_logs 140\n",
      "Converting 'stu11_adf_p4_logs.csv'...\n",
      "Total size of interaction log 2024\n",
      "stu11_adf_p4_logs 1058\n",
      "Converting 'pro18_adf_p4_logs.csv'...\n",
      "Total size of interaction log 2161\n",
      "pro18_adf_p4_logs 0\n",
      "Converting 'pro25_acf_p4_logs.csv'...\n",
      "Total size of interaction log 664\n",
      "pro25_acf_p4_logs 175\n",
      "Converting 'stu4_ade_p3_logs.csv'...\n",
      "Total size of interaction log 3394\n",
      "stu4_ade_p3_logs 1682\n",
      "Converting 'pro24_adf_p3_logs.csv'...\n",
      "Total size of interaction log 1575\n",
      "pro24_adf_p3_logs 1036\n",
      "Converting 'pro17_ace_p3_logs.csv'...\n",
      "Total size of interaction log 2503\n",
      "pro17_ace_p3_logs 1096\n",
      "Converting 'stu17_ace_p4_logs.csv'...\n",
      "Total size of interaction log 2771\n",
      "stu17_ace_p4_logs 826\n",
      "Converting 'pro5_adf_p3_logs.csv'...\n",
      "Total size of interaction log 1478\n",
      "pro5_adf_p3_logs 244\n",
      "Converting 'pro23_acf_p3_logs.csv'...\n",
      "Total size of interaction log 2457\n",
      "pro23_acf_p3_logs 1304\n",
      "Converting 'pro22_ade_p3_logs.csv'...\n",
      "Total size of interaction log 1827\n",
      "pro22_ade_p3_logs 420\n",
      "Converting 'stu3_acf_p4_logs.csv'...\n",
      "Total size of interaction log 4251\n",
      "stu3_acf_p4_logs 2469\n",
      "Converting 'stu25_ace_p4_logs.csv'...\n",
      "Total size of interaction log 1130\n",
      "stu25_ace_p4_logs 419\n",
      "Converting 'stu24_ace_p3_logs.csv'...\n",
      "Total size of interaction log 2809\n",
      "stu24_ace_p3_logs 1469\n",
      "Converting 'stu17_ace_p3_logs.csv'...\n",
      "Total size of interaction log 1729\n",
      "stu17_ace_p3_logs 206\n",
      "Converting 'pro5_adf_p4_logs.csv'...\n",
      "Total size of interaction log 1953\n",
      "pro5_adf_p4_logs 804\n",
      "Converting 'pro23_acf_p4_logs.csv'...\n",
      "Total size of interaction log 1642\n",
      "pro23_acf_p4_logs 668\n",
      "Converting 'pro22_ade_p4_logs.csv'...\n",
      "Total size of interaction log 1530\n",
      "pro22_ade_p4_logs 332\n",
      "Converting 'stu3_acf_p3_logs.csv'...\n",
      "Total size of interaction log 5735\n",
      "stu3_acf_p3_logs 3874\n",
      "Converting 'stu25_ace_p3_logs.csv'...\n",
      "Total size of interaction log 1217\n",
      "stu25_ace_p3_logs 498\n",
      "Converting 'stu24_ace_p4_logs.csv'...\n",
      "Total size of interaction log 2619\n",
      "stu24_ace_p4_logs 799\n",
      "Converting 'stu10_acf_p4_logs.csv'...\n",
      "Total size of interaction log 4164\n",
      "stu10_acf_p4_logs 3785\n",
      "Converting 'pro3_ace_p4_logs.csv'...\n",
      "Total size of interaction log 1143\n",
      "pro3_ace_p4_logs 570\n",
      "Converting 'stu11_adf_p3_logs.csv'...\n",
      "Total size of interaction log 952\n",
      "stu11_adf_p3_logs 233\n",
      "Converting 'pro25_acf_p3_logs.csv'...\n",
      "Total size of interaction log 721\n",
      "pro25_acf_p3_logs 497\n",
      "Converting 'stu4_ade_p4_logs.csv'...\n",
      "Total size of interaction log 632\n",
      "stu4_ade_p4_logs 137\n",
      "Converting 'pro18_adf_p3_logs.csv'...\n",
      "Total size of interaction log 1681\n",
      "pro18_adf_p3_logs 329\n",
      "Converting 'pro24_adf_p4_logs.csv'...\n",
      "Total size of interaction log 2047\n",
      "pro24_adf_p4_logs 724\n",
      "Converting 'pro17_ace_p4_logs.csv'...\n",
      "Total size of interaction log 3007\n",
      "pro17_ace_p4_logs 1335\n",
      "Conversion complete.\n"
     ]
    }
   ],
   "source": [
    "import os\n",
    "import re\n",
    "user_interactions_path='../data/zheng/processed_csv/'\n",
    "csv_files=os.listdir(user_interactions_path)\n",
    "\n",
    "fieldnames = ['Title', 'US_Gross', 'Worldwide_Gross', 'US_DVD_Sales', 'Production_Budget', 'Release_Date', 'MPAA_Rating', 'Running_Time_min', 'Distributor', 'Source', 'Major_Genre', 'Creative_Type', 'Director', 'Rotten_Tomatoes_Rating', 'IMDB_Rating', 'IMDB_Votes']\n",
    "\n",
    "combined_user_interactions=pd.DataFrame(columns=['user','interaction_session'])\n",
    "for csv_filename in csv_files:\n",
    "    print(\"Converting '{}'...\".format(csv_filename))\n",
    "    user_name=csv_filename.split('.')[0]\n",
    "    df = pd.read_csv(os.path.join(user_interactions_path, csv_filename))\n",
    "    interactions=[]\n",
    "    print('Total size of interaction log',len(df))\n",
    "    for index, row in df.iterrows():\n",
    "        value=row['Value']\n",
    "       # Use regular expressions to extract mark, x_attribute, and y_attribute values\n",
    "        if len(str(value)) < 15 or row['Interaction'] in ('scroll up', 'scroll down','typed in answer'):\n",
    "            matches= [None,None,None]\n",
    "        else:\n",
    "            mark_match = re.search(r'mark:(\\w+);', value)\n",
    "            # x_attr_match = re.search(r'encoding:-quantitative-x<aggregate>([\\w<>-]+),', value)\n",
    "            # y_attr_match = re.search(r'encoding:-quantitative-y<aggregate>([\\w<>-]+),', value)\n",
    "            mark = mark_match.group(1) if mark_match else None\n",
    "            # x_attribute = x_attr_match.group(1) if x_attr_match else None\n",
    "            # y_attribute = y_attr_match.group(1) if y_attr_match else None\n",
    "            matches= search_attribute(value)\n",
    "            matches = [mark] + matches\n",
    "\n",
    "        if None in matches:\n",
    "            continue\n",
    "        else:\n",
    "            match_to_dataset=int(get_interaction_id(matches))\n",
    "            #print(match_to_dataset)\n",
    "            interactions.append(match_to_dataset)\n",
    "    print(user_name,len(interactions))\n",
    "    combined_user_interactions=combined_user_interactions.append({'user':user_name,'interaction_session':interactions},ignore_index=True)\n",
    "    interactions=[]\n",
    "print(\"Conversion complete.\")"
   ],
   "metadata": {
    "collapsed": false,
    "ExecuteTime": {
     "end_time": "2023-09-27T03:25:21.904503Z",
     "start_time": "2023-09-27T03:25:12.406413Z"
    }
   }
  },
  {
   "cell_type": "code",
   "execution_count": 41,
   "outputs": [
    {
     "data": {
      "text/plain": "                 user                                interaction_session\n0   stu31_ade_p3_logs  [334, 45, 334, 331, 334, 331, 331, 331, 331, 3...\n1   pro13_ace_p3_logs  [45, 45, 45, 45, 45, 40, 40, 40, 40, 40, 40, 4...\n2   stu15_ade_p3_logs  [335, 335, 335, 335, 335, 328, 328, 328, 328, ...\n3   stu29_ade_p4_logs  [672, 672, 672, 672, 345, 345, 345, 345, 345, ...\n4    pro9_acf_p3_logs  [44, 44, 44, 44, 44, 44, 44, 44, 44, 44, 44, 4...\n..                ...                                                ...\n67  pro25_acf_p3_logs  [44, 44, 44, 44, 44, 44, 44, 39, 44, 42, 42, 4...\n68   stu4_ade_p4_logs  [674, 674, 674, 674, 674, 674, 674, 674, 113, ...\n69  pro18_adf_p3_logs  [691, 691, 691, 691, 669, 669, 669, 669, 669, ...\n70  pro24_adf_p4_logs  [671, 671, 671, 671, 671, 671, 671, 671, 671, ...\n71  pro17_ace_p4_logs  [181, 181, 182, 182, 95, 95, 95, 95, 95, 95, 9...\n\n[72 rows x 2 columns]",
      "text/html": "<div>\n<style scoped>\n    .dataframe tbody tr th:only-of-type {\n        vertical-align: middle;\n    }\n\n    .dataframe tbody tr th {\n        vertical-align: top;\n    }\n\n    .dataframe thead th {\n        text-align: right;\n    }\n</style>\n<table border=\"1\" class=\"dataframe\">\n  <thead>\n    <tr style=\"text-align: right;\">\n      <th></th>\n      <th>user</th>\n      <th>interaction_session</th>\n    </tr>\n  </thead>\n  <tbody>\n    <tr>\n      <th>0</th>\n      <td>stu31_ade_p3_logs</td>\n      <td>[334, 45, 334, 331, 334, 331, 331, 331, 331, 3...</td>\n    </tr>\n    <tr>\n      <th>1</th>\n      <td>pro13_ace_p3_logs</td>\n      <td>[45, 45, 45, 45, 45, 40, 40, 40, 40, 40, 40, 4...</td>\n    </tr>\n    <tr>\n      <th>2</th>\n      <td>stu15_ade_p3_logs</td>\n      <td>[335, 335, 335, 335, 335, 328, 328, 328, 328, ...</td>\n    </tr>\n    <tr>\n      <th>3</th>\n      <td>stu29_ade_p4_logs</td>\n      <td>[672, 672, 672, 672, 345, 345, 345, 345, 345, ...</td>\n    </tr>\n    <tr>\n      <th>4</th>\n      <td>pro9_acf_p3_logs</td>\n      <td>[44, 44, 44, 44, 44, 44, 44, 44, 44, 44, 44, 4...</td>\n    </tr>\n    <tr>\n      <th>...</th>\n      <td>...</td>\n      <td>...</td>\n    </tr>\n    <tr>\n      <th>67</th>\n      <td>pro25_acf_p3_logs</td>\n      <td>[44, 44, 44, 44, 44, 44, 44, 39, 44, 42, 42, 4...</td>\n    </tr>\n    <tr>\n      <th>68</th>\n      <td>stu4_ade_p4_logs</td>\n      <td>[674, 674, 674, 674, 674, 674, 674, 674, 113, ...</td>\n    </tr>\n    <tr>\n      <th>69</th>\n      <td>pro18_adf_p3_logs</td>\n      <td>[691, 691, 691, 691, 669, 669, 669, 669, 669, ...</td>\n    </tr>\n    <tr>\n      <th>70</th>\n      <td>pro24_adf_p4_logs</td>\n      <td>[671, 671, 671, 671, 671, 671, 671, 671, 671, ...</td>\n    </tr>\n    <tr>\n      <th>71</th>\n      <td>pro17_ace_p4_logs</td>\n      <td>[181, 181, 182, 182, 95, 95, 95, 95, 95, 95, 9...</td>\n    </tr>\n  </tbody>\n</table>\n<p>72 rows × 2 columns</p>\n</div>"
     },
     "execution_count": 41,
     "metadata": {},
     "output_type": "execute_result"
    }
   ],
   "source": [
    "combined_user_interactions"
   ],
   "metadata": {
    "collapsed": false,
    "ExecuteTime": {
     "end_time": "2023-09-27T03:20:06.252247Z",
     "start_time": "2023-09-27T03:20:06.247211Z"
    }
   }
  },
  {
   "cell_type": "code",
   "execution_count": 42,
   "outputs": [],
   "source": [
    "combined_user_interactions.to_csv(\"../data/zheng/competing_movies_interactions.csv\", index=False)"
   ],
   "metadata": {
    "collapsed": false,
    "ExecuteTime": {
     "end_time": "2023-09-27T03:20:07.651795Z",
     "start_time": "2023-09-27T03:20:07.642940Z"
    }
   }
  },
  {
   "cell_type": "code",
   "execution_count": 43,
   "outputs": [
    {
     "data": {
      "text/plain": "72"
     },
     "execution_count": 43,
     "metadata": {},
     "output_type": "execute_result"
    }
   ],
   "source": [
    "combined_user_interactions['interaction_session'].count()"
   ],
   "metadata": {
    "collapsed": false,
    "ExecuteTime": {
     "end_time": "2023-09-27T03:20:08.463185Z",
     "start_time": "2023-09-27T03:20:08.431046Z"
    }
   }
  },
  {
   "cell_type": "code",
   "execution_count": null,
   "outputs": [],
   "source": [],
   "metadata": {
    "collapsed": false
   }
  }
 ],
 "metadata": {
  "kernelspec": {
   "display_name": "Python 3",
   "language": "python",
   "name": "python3"
  },
  "language_info": {
   "codemirror_mode": {
    "name": "ipython",
    "version": 2
   },
   "file_extension": ".py",
   "mimetype": "text/x-python",
   "name": "python",
   "nbconvert_exporter": "python",
   "pygments_lexer": "ipython2",
   "version": "2.7.6"
  }
 },
 "nbformat": 4,
 "nbformat_minor": 0
}
